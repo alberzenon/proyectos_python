{
 "cells": [
  {
   "cell_type": "code",
   "execution_count": 14,
   "metadata": {},
   "outputs": [],
   "source": [
    "import geopandas as gpd\n",
    "import matplotlib.pyplot as plt\n"
   ]
  },
  {
   "cell_type": "code",
   "execution_count": 15,
   "metadata": {},
   "outputs": [],
   "source": [
    "gdf = gpd.read_file('/home/alberto/Documentos/ALBERTO/GITHUB/proyectos_python/geoespacial/archivo.geojson')\n"
   ]
  },
  {
   "cell_type": "code",
   "execution_count": 16,
   "metadata": {},
   "outputs": [
    {
     "name": "stdout",
     "output_type": "stream",
     "text": [
      "          name  population                     geometry\n",
      "0   Nueva York     8804190   POINT (-74.00600 40.71280)\n",
      "1  Los Ángeles     3971883  POINT (-118.24370 34.05220)\n",
      "2      Chicago     2746388   POINT (-87.62980 41.87810)\n",
      "3      Houston     2304580   POINT (-95.36980 29.76040)\n",
      "4      Seattle      724745  POINT (-122.33210 47.60620)\n"
     ]
    }
   ],
   "source": [
    "print(gdf)"
   ]
  },
  {
   "cell_type": "code",
   "execution_count": 17,
   "metadata": {},
   "outputs": [
    {
     "name": "stdout",
     "output_type": "stream",
     "text": [
      "         population\n",
      "count  5.000000e+00\n",
      "mean   3.710357e+06\n",
      "std    3.075502e+06\n",
      "min    7.247450e+05\n",
      "25%    2.304580e+06\n",
      "50%    2.746388e+06\n",
      "75%    3.971883e+06\n",
      "max    8.804190e+06\n"
     ]
    }
   ],
   "source": [
    "# Describir los datos\n",
    "print(gdf.describe())"
   ]
  },
  {
   "cell_type": "code",
   "execution_count": null,
   "metadata": {},
   "outputs": [],
   "source": [
    "\n",
    "\n",
    "# Crear un mapa de calor\n",
    "plt.figure(figsize=(10, 6))\n",
    "sns.kdeplot(x=gdf.geometry.x, y=gdf.geometry.y, cmap='Reds', fill=True, thresh=0)\n",
    "plt.title('Mapa de Calor de Ciudades')\n",
    "plt.xlabel('Longitud')\n",
    "plt.ylabel('Latitud')\n",
    "plt.show()\n"
   ]
  }
 ],
 "metadata": {
  "kernelspec": {
   "display_name": "Python 3",
   "language": "python",
   "name": "python3"
  },
  "language_info": {
   "codemirror_mode": {
    "name": "ipython",
    "version": 3
   },
   "file_extension": ".py",
   "mimetype": "text/x-python",
   "name": "python",
   "nbconvert_exporter": "python",
   "pygments_lexer": "ipython3",
   "version": "3.8.10"
  }
 },
 "nbformat": 4,
 "nbformat_minor": 2
}
