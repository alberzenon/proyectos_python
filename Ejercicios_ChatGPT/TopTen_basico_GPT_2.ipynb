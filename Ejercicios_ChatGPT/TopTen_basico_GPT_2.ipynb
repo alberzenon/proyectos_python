{
 "cells": [
  {
   "attachments": {},
   "cell_type": "markdown",
   "metadata": {},
   "source": [
    "Aquí hay una lista de los diez ejercicios de siguiente nivel a partir de los ejercicios que mencioné previamente:\n",
    "\n",
    " 1   Crear un programa que genere números primos hasta un límite dado por el usuario.\n",
    " 2   Crear un programa que convierta un número decimal a binario, octal o hexadecimal.\n",
    " 3   Crear un programa que resuelva ecuaciones cuadráticas.\n",
    " 4   Crear un programa que implemente el cifrado César.\n",
    " 5   Crear un programa que calcule el factorial de un número dado.\n",
    " 6   Crear un programa que genere números de Fibonacci hasta un límite dado por el usuario.\n",
    " 7   Crear un programa que implemente una búsqueda binaria.\n",
    " 8   Crear un programa que genere una matriz de números aleatorios y calcule su suma y promedio.\n",
    " 9   Crear un programa que implemente el algoritmo de ordenamiento bubble sort.\n",
    " 10   Crear un programa que implemente el juego \"Adivina el número\".\n",
    "\n",
    "Estos ejercicios son un poco más desafiantes que los ejercicios básicos, pero siguen siendo accesibles para un principiante en Python. Al resolver estos problemas, puedes seguir mejorando tus habilidades de programación en Python."
   ]
  },
  {
   "cell_type": "code",
   "execution_count": null,
   "metadata": {},
   "outputs": [],
   "source": []
  }
 ],
 "metadata": {
  "kernelspec": {
   "display_name": "Python 3",
   "language": "python",
   "name": "python3"
  },
  "language_info": {
   "codemirror_mode": {
    "name": "ipython",
    "version": 3
   },
   "file_extension": ".py",
   "mimetype": "text/x-python",
   "name": "python",
   "nbconvert_exporter": "python",
   "pygments_lexer": "ipython3",
   "version": "3.8.10"
  },
  "orig_nbformat": 4,
  "vscode": {
   "interpreter": {
    "hash": "916dbcbb3f70747c44a77c7bcd40155683ae19c65e1c03b4aa3499c5328201f1"
   }
  }
 },
 "nbformat": 4,
 "nbformat_minor": 2
}
