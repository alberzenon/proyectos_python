{
 "cells": [
  {
   "attachments": {},
   "cell_type": "markdown",
   "metadata": {},
   "source": [
    "Aquí están los 10 ejercicios recomendados para aprender Python:\n",
    "\n",
    "    Hacer un programa que imprima \"Hola, mundo!\" en la consola.\n",
    "    Crear un programa que calcule la suma de dos números.\n",
    "    Escribir un programa que convierta una temperatura en grados Celsius a grados Fahrenheit.\n",
    "    Crear un programa que genere una lista de números aleatorios y calcule su promedio.\n",
    "    Escribir un programa que convierta un número decimal a binario.\n",
    "    Crear un programa que encuentre el máximo común divisor de dos números.\n",
    "    Escribir un programa que verifique si una palabra es un palíndromo.\n",
    "    Crear un programa que calcule la factorial de un número.\n",
    "    Escribir un programa que calcule la suma de los primeros N números naturales.\n",
    "    Crear un programa que encuentre la raíz cuadrada de un número sin utilizar la función sqrt de la biblioteca matemática.\n",
    "\n",
    "Estos ejercicios son un buen punto de partida para aprender Python y aplicar conceptos básicos de programación como variables, operadores, condicionales, bucles y funciones. A medida que resuelvas estos ejercicios, puedes avanzar a problemas más complejos para seguir mejorando tus habilidades de programación en Python."
   ]
  },
  {
   "cell_type": "code",
   "execution_count": 3,
   "metadata": {},
   "outputs": [
    {
     "name": "stdout",
     "output_type": "stream",
     "text": [
      "\"Hola, mundo!\"\n"
     ]
    }
   ],
   "source": [
    "#1 Hacer un programa que imprima \"Hola, mundo!\" en la consola.\n",
    "print(\"\\\"Hola, mundo!\\\"\")"
   ]
  },
  {
   "cell_type": "code",
   "execution_count": 6,
   "metadata": {},
   "outputs": [
    {
     "name": "stdout",
     "output_type": "stream",
     "text": [
      "La suma de 20 + 40 es 60\n"
     ]
    }
   ],
   "source": [
    "#2.Crear un programa que calcule la suma de dos números.\n",
    "\n",
    "num1 = 20\n",
    "num2 = 40\n",
    "\n",
    "sum = num1+num2\n",
    "print(f\"La suma de {num1} + {num2} es {sum}\")\n"
   ]
  },
  {
   "cell_type": "code",
   "execution_count": 1,
   "metadata": {},
   "outputs": [
    {
     "name": "stdout",
     "output_type": "stream",
     "text": [
      "100 grados Celsus es equivalente a 212.0 GRADOS Fahrenheit\n"
     ]
    }
   ],
   "source": [
    "#3. Escribir un programa que convierta una temperatura en grados Celsius a grados Fahrenheit\n",
    "\n",
    "tem_gc= 100\n",
    "f = tem_gc * 1.8 +32\n",
    "\n",
    "\n",
    "print(f\"{tem_gc} grados Celsus es equivalente a {f} GRADOS Fahrenheit\")\n"
   ]
  },
  {
   "cell_type": "code",
   "execution_count": 2,
   "metadata": {},
   "outputs": [
    {
     "name": "stdout",
     "output_type": "stream",
     "text": [
      "Lista: [78, 87, 47, 24, 90, 71, 30, 29, 29, 70]\n",
      "Promedio: 55.5\n"
     ]
    }
   ],
   "source": [
    " # 4. Escribir un programa que convierta un número decimal a binario.\n",
    "import random\n",
    "\n",
    "# Número de elementos en la lista\n",
    "num_elements = 10\n",
    "\n",
    "# Lista de números aleatorios\n",
    "random_list = [random.randint(0, 100) for i in range(num_elements)]\n",
    "\n",
    "# Cálculo del promedio\n",
    "average = sum(random_list) / num_elements\n",
    "\n",
    "# Imprimir la lista y el promedio\n",
    "print(\"Lista:\", random_list)\n",
    "print(\"Promedio:\", average)\n",
    "\n"
   ]
  },
  {
   "cell_type": "code",
   "execution_count": 3,
   "metadata": {},
   "outputs": [
    {
     "name": "stdout",
     "output_type": "stream",
     "text": [
      "[1, 0, 1, 1, 1]\n"
     ]
    }
   ],
   "source": [
    "#5.  Escribir un programa que convierta un número decimal a binario.\n",
    "\n",
    "numero_decimal = 29 # este es el número que queremos convertir a binario\n",
    "\n",
    "modulos = [] # la lista para guardar los módulos\n",
    "\n",
    "while numero_decimal != 0: # mientras el número de entrada sea diferente de cero\n",
    "    # paso 1: dividimos entre 2\n",
    "    modulo = numero_decimal % 2\n",
    "    cociente = numero_decimal // 2\n",
    "    modulos.append(modulo) # guardamos el módulo calculado\n",
    "    numero_decimal = cociente # el cociente pasa a ser el número de entrada\n",
    "\n",
    "print(modulos)"
   ]
  },
  {
   "cell_type": "code",
   "execution_count": 4,
   "metadata": {},
   "outputs": [
    {
     "name": "stdout",
     "output_type": "stream",
     "text": [
      "El MCD de 2 y 0 es 2\n"
     ]
    }
   ],
   "source": [
    "# 6. Crear un programa que encuentre el máximo común divisor de dos números\n",
    "\n",
    "# Obtener los dos números del usuario\n",
    "num1 = 10\n",
    "num2 = 6\n",
    "\n",
    "# Asegurarse de que num1 es el mayor de los dos números\n",
    "if num2 > num1:\n",
    "    num1, num2 = num2, num1\n",
    "\n",
    "# Calcular el MCD utilizando el algoritmo de Euclides\n",
    "while num2 != 0:\n",
    "    mcd = num2\n",
    "    num2 = num1 % num2\n",
    "    num1 = mcd\n",
    "\n",
    "# Imprimir el resultado\n",
    "print(\"El MCD de\", num1, \"y\", num2, \"es\", mcd)"
   ]
  },
  {
   "cell_type": "code",
   "execution_count": 4,
   "metadata": {},
   "outputs": [
    {
     "name": "stdout",
     "output_type": "stream",
     "text": [
      "La palabra majam es un palindromo\n"
     ]
    }
   ],
   "source": [
    "# 7. Escribir un programa que verifique si una palabra es un palíndromo.\n",
    "\n",
    "word =\"majam\"\n",
    "\n",
    "if str(word) == str(word)[::-1] :\n",
    "    print(f\"La palabra {word} es un palindromo\")\n",
    "else:\n",
    "    print(f\"La palabra {word} no es un palindromo\")"
   ]
  },
  {
   "cell_type": "code",
   "execution_count": 7,
   "metadata": {},
   "outputs": [
    {
     "name": "stdout",
     "output_type": "stream",
     "text": [
      "Factorial is 120\n"
     ]
    }
   ],
   "source": [
    "#8. Crear un programa que calcule la factorial de un número\n",
    "\n",
    "from math import factorial\n",
    "\n",
    "print (\"Factorial is\", factorial(5))\n"
   ]
  },
  {
   "cell_type": "code",
   "execution_count": 16,
   "metadata": {},
   "outputs": [
    {
     "name": "stdout",
     "output_type": "stream",
     "text": [
      "la suma de los 10 pirmeros numero naturales es: 55\n"
     ]
    }
   ],
   "source": [
    "# 10. Escribir un programa que calcule la suma de los primeros N números naturales.\n",
    "\n",
    "\n",
    "suma = 0\n",
    "for i    in range(11):\n",
    "    \n",
    "    suma += i\n",
    "    \n",
    "print(f\"la suma de los 10 pirmeros numero naturales es: {suma}\")   \n",
    "\n"
   ]
  },
  {
   "cell_type": "code",
   "execution_count": 18,
   "metadata": {},
   "outputs": [
    {
     "data": {
      "text/plain": [
       "5.0"
      ]
     },
     "execution_count": 18,
     "metadata": {},
     "output_type": "execute_result"
    }
   ],
   "source": [
    "# 10. Crear un programa que encuentre la raíz cuadrada de un número sin utilizar la función sqrt de la biblioteca matemática.\n",
    "\n",
    "def raiz_cuadrada(numero):\n",
    "    if numero == 0:\n",
    "        return 0\n",
    "    elif numero < 0:\n",
    "        raise ValueError(\"La raíz cuadrada de un número negativo no es un número real.\")\n",
    "    else:\n",
    "        x = numero / 2\n",
    "        while True:\n",
    "            y = (x + numero/x) / 2\n",
    "            if abs(y - x) < 0.000001:\n",
    "                return y\n",
    "            x = y\n",
    "            \n",
    "            \n",
    "raiz_cuadrada(25)            "
   ]
  }
 ],
 "metadata": {
  "kernelspec": {
   "display_name": "Python 3",
   "language": "python",
   "name": "python3"
  },
  "language_info": {
   "codemirror_mode": {
    "name": "ipython",
    "version": 3
   },
   "file_extension": ".py",
   "mimetype": "text/x-python",
   "name": "python",
   "nbconvert_exporter": "python",
   "pygments_lexer": "ipython3",
   "version": "3.8.10"
  },
  "orig_nbformat": 4,
  "vscode": {
   "interpreter": {
    "hash": "916dbcbb3f70747c44a77c7bcd40155683ae19c65e1c03b4aa3499c5328201f1"
   }
  }
 },
 "nbformat": 4,
 "nbformat_minor": 2
}
