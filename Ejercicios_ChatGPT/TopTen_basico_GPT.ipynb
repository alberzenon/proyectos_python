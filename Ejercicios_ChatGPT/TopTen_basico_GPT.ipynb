{
 "cells": [
  {
   "attachments": {},
   "cell_type": "markdown",
   "metadata": {},
   "source": [
    "Aquí están los 10 ejercicios recomendados para aprender Python:\n",
    "\n",
    "    Hacer un programa que imprima \"Hola, mundo!\" en la consola.\n",
    "    Crear un programa que calcule la suma de dos números.\n",
    "    Escribir un programa que convierta una temperatura en grados Celsius a grados Fahrenheit.\n",
    "    Crear un programa que genere una lista de números aleatorios y calcule su promedio.\n",
    "    Escribir un programa que convierta un número decimal a binario.\n",
    "    Crear un programa que encuentre el máximo común divisor de dos números.\n",
    "    Escribir un programa que verifique si una palabra es un palíndromo.\n",
    "    Crear un programa que calcule la factorial de un número.\n",
    "    Escribir un programa que calcule la suma de los primeros N números naturales.\n",
    "    Crear un programa que encuentre la raíz cuadrada de un número sin utilizar la función sqrt de la biblioteca matemática.\n",
    "\n",
    "Estos ejercicios son un buen punto de partida para aprender Python y aplicar conceptos básicos de programación como variables, operadores, condicionales, bucles y funciones. A medida que resuelvas estos ejercicios, puedes avanzar a problemas más complejos para seguir mejorando tus habilidades de programación en Python."
   ]
  },
  {
   "cell_type": "code",
   "execution_count": 3,
   "metadata": {},
   "outputs": [
    {
     "name": "stdout",
     "output_type": "stream",
     "text": [
      "\"Hola, mundo!\"\n"
     ]
    }
   ],
   "source": [
    "#1 Hacer un programa que imprima \"Hola, mundo!\" en la consola.\n",
    "print(\"\\\"Hola, mundo!\\\"\")"
   ]
  },
  {
   "cell_type": "code",
   "execution_count": 6,
   "metadata": {},
   "outputs": [
    {
     "name": "stdout",
     "output_type": "stream",
     "text": [
      "La suma de 20 + 40 es 60\n"
     ]
    }
   ],
   "source": [
    "#2.Crear un programa que calcule la suma de dos números.\n",
    "\n",
    "num1 = 20\n",
    "num2 = 40\n",
    "\n",
    "sum = num1+num2\n",
    "print(f\"La suma de {num1} + {num2} es {sum}\")\n"
   ]
  },
  {
   "cell_type": "code",
   "execution_count": 1,
   "metadata": {},
   "outputs": [
    {
     "name": "stdout",
     "output_type": "stream",
     "text": [
      "100 grados Celsus es equivalente a 212.0 GRADOS Fahrenheit\n"
     ]
    }
   ],
   "source": [
    "#3. Escribir un programa que convierta una temperatura en grados Celsius a grados Fahrenheit\n",
    "\n",
    "tem_gc= 100\n",
    "f = tem_gc * 1.8 +32\n",
    "\n",
    "\n",
    "print(f\"{tem_gc} grados Celsus es equivalente a {f} GRADOS Fahrenheit\")\n"
   ]
  },
  {
   "cell_type": "code",
   "execution_count": 2,
   "metadata": {},
   "outputs": [
    {
     "name": "stdout",
     "output_type": "stream",
     "text": [
      "Lista: [78, 87, 47, 24, 90, 71, 30, 29, 29, 70]\n",
      "Promedio: 55.5\n"
     ]
    }
   ],
   "source": [
    " # 4. Escribir un programa que convierta un número decimal a binario.\n",
    "import random\n",
    "\n",
    "# Número de elementos en la lista\n",
    "num_elements = 10\n",
    "\n",
    "# Lista de números aleatorios\n",
    "random_list = [random.randint(0, 100) for i in range(num_elements)]\n",
    "\n",
    "# Cálculo del promedio\n",
    "average = sum(random_list) / num_elements\n",
    "\n",
    "# Imprimir la lista y el promedio\n",
    "print(\"Lista:\", random_list)\n",
    "print(\"Promedio:\", average)\n",
    "\n"
   ]
  },
  {
   "cell_type": "code",
   "execution_count": null,
   "metadata": {},
   "outputs": [],
   "source": []
  }
 ],
 "metadata": {
  "kernelspec": {
   "display_name": "Python 3",
   "language": "python",
   "name": "python3"
  },
  "language_info": {
   "codemirror_mode": {
    "name": "ipython",
    "version": 3
   },
   "file_extension": ".py",
   "mimetype": "text/x-python",
   "name": "python",
   "nbconvert_exporter": "python",
   "pygments_lexer": "ipython3",
   "version": "3.8.10"
  },
  "orig_nbformat": 4,
  "vscode": {
   "interpreter": {
    "hash": "916dbcbb3f70747c44a77c7bcd40155683ae19c65e1c03b4aa3499c5328201f1"
   }
  }
 },
 "nbformat": 4,
 "nbformat_minor": 2
}
