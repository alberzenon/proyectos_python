{
 "cells": [
  {
   "cell_type": "code",
   "execution_count": 27,
   "metadata": {},
   "outputs": [],
   "source": [
    "import tkinter \n",
    "\n",
    "#451ea85904078b4f0403a785c5484013\n",
    "#https://api.openweathermap.org/data/2.5/weather?lat={lat}&lon={lon}&appid={API key}\n",
    "\n",
    "def clima(ciudad):\n",
    "    API_key=\"451ea85904078b4f0403a785c5484013\"\n",
    "    URL = \"https://api.openweathermap.org/data/2.5/weather\"\n",
    "    parametros={\"APPID\": API_key, q =ciudad }\n",
    "ventana = tkinter.Tk()\n",
    "ventana.geometry(\"350x550\")\n",
    "\n",
    "texto_ciudad = tkinter.Entry(ventana,font =(\"Courier\",20,\"normal\"),justify = \"center\")\n",
    "texto_ciudad.pack(padx=30,pady=30)\n",
    "\n",
    "obtener_clima = tkinter.Button(ventana, text =\"Obtener Clima\", font=(\"Courier\",20,\"normal\"))\n",
    "obtener_clima.pack()\n",
    "\n",
    "mostrar_clima = Label(text =\"weather\", font=(\"Courier\",20,\"normal\"))\n",
    "mostrar_clima.pack(padx = 30 , pady =30)\n",
    "\n",
    "\n",
    "ventana.mainloop()\n"
   ]
  }
 ],
 "metadata": {
  "kernelspec": {
   "display_name": "Python 3.8.10 64-bit",
   "language": "python",
   "name": "python3"
  },
  "language_info": {
   "codemirror_mode": {
    "name": "ipython",
    "version": 3
   },
   "file_extension": ".py",
   "mimetype": "text/x-python",
   "name": "python",
   "nbconvert_exporter": "python",
   "pygments_lexer": "ipython3",
   "version": "3.8.10"
  },
  "orig_nbformat": 4,
  "vscode": {
   "interpreter": {
    "hash": "916dbcbb3f70747c44a77c7bcd40155683ae19c65e1c03b4aa3499c5328201f1"
   }
  }
 },
 "nbformat": 4,
 "nbformat_minor": 2
}
